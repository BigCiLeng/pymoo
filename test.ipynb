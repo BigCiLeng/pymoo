{
 "cells": [
  {
   "cell_type": "code",
   "execution_count": 3,
   "metadata": {},
   "outputs": [
    {
     "name": "stdout",
     "output_type": "stream",
     "text": [
      "# name: BNH\n",
      "# n_var: 2\n",
      "# n_obj: 2\n",
      "# n_ieq_constr: 2\n",
      "# n_eq_constr: 0\n",
      "\n"
     ]
    }
   ],
   "source": [
    "from pymoo.problems import get_problem\n",
    "from pymoo.util.plotting import plot\n",
    "\n",
    "problem = get_problem(\"osy\")\n",
    "plot(problem.pareto_front(), no_fill=True)"
   ]
  }
 ],
 "metadata": {
  "kernelspec": {
   "display_name": "Python 3.8.13 ('tianshou')",
   "language": "python",
   "name": "python3"
  },
  "language_info": {
   "codemirror_mode": {
    "name": "ipython",
    "version": 3
   },
   "file_extension": ".py",
   "mimetype": "text/x-python",
   "name": "python",
   "nbconvert_exporter": "python",
   "pygments_lexer": "ipython3",
   "version": "3.8.13"
  },
  "orig_nbformat": 4,
  "vscode": {
   "interpreter": {
    "hash": "c7b233fb53a5471c87c3e8fe1ad22362a4a7ed4bf2de672062fe9218649a8ba1"
   }
  }
 },
 "nbformat": 4,
 "nbformat_minor": 2
}
