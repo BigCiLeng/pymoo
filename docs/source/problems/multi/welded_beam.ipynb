{
 "cells": [
  {
   "cell_type": "raw",
   "metadata": {
    "raw_mimetype": "text/restructuredtext"
   },
   "source": [
    ".. _nb_welded_beam:"
   ]
  },
  {
   "cell_type": "markdown",
   "metadata": {},
   "source": [
    "# Welded Beam\n"
   ]
  },
  {
   "cell_type": "code",
   "execution_count": null,
   "metadata": {
    "code": "usage_problem.py",
    "execution": {
     "iopub.execute_input": "2022-08-01T02:44:34.144400Z",
     "iopub.status.busy": "2022-08-01T02:44:34.144020Z",
     "iopub.status.idle": "2022-08-01T02:44:34.654447Z",
     "shell.execute_reply": "2022-08-01T02:44:34.653514Z"
    },
    "section": "bnh"
   },
   "outputs": [],
   "source": [
    "from pymoo.problems import get_problem\n",
    "from pymoo.util.plotting import plot\n",
    "\n",
    "problem = get_problem(\"welded_beam\")\n",
    "plot(problem.pareto_front(), no_fill=True)"
   ]
  }
 ],
 "metadata": {},
 "nbformat": 4,
 "nbformat_minor": 4
}
