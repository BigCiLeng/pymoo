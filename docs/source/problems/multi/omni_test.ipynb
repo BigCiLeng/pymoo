{
 "cells": [
  {
   "cell_type": "markdown",
   "metadata": {
    "pycharm": {
     "name": "#%% md\n"
    }
   },
   "source": [
    "# Omni-test\n",
    "The Omni-test problem is a multi-modal multi-objective optimization problem proposed by Deb in <cite data-cite=\"omni_test\"></cite>. It has two objective\n",
    "functions. Suppose that the dimension of the decision space is $D$, then it has $3^D$ Pareto subsets in the decision\n",
    "space corresponding to the same Pareto front."
   ]
  },
  {
   "cell_type": "markdown",
   "metadata": {
    "pycharm": {
     "name": "#%% md\n"
    }
   },
   "source": [
    "## 2-dimensional case\n",
    "### Pareto front"
   ]
  },
  {
   "cell_type": "code",
   "execution_count": null,
   "metadata": {
    "execution": {
     "iopub.execute_input": "2022-08-01T02:44:40.872611Z",
     "iopub.status.busy": "2022-08-01T02:44:40.872232Z",
     "iopub.status.idle": "2022-08-01T02:44:41.343923Z",
     "shell.execute_reply": "2022-08-01T02:44:41.343069Z"
    },
    "jupyter": {
     "outputs_hidden": false
    },
    "pycharm": {
     "name": "#%%\n"
    }
   },
   "outputs": [],
   "source": [
    "from pymoo.problems.multi.omnitest import OmniTest\n",
    "from pymoo.visualization.scatter import Scatter\n",
    "\n",
    "problem = OmniTest(n_var=2)\n",
    "pf = problem.pareto_front(1000)\n",
    "Scatter(title=\"Pareto front\").add(pf).show()"
   ]
  },
  {
   "cell_type": "markdown",
   "metadata": {
    "pycharm": {
     "name": "#%% md\n"
    }
   },
   "source": [
    "### Pareto set"
   ]
  },
  {
   "cell_type": "code",
   "execution_count": null,
   "metadata": {
    "execution": {
     "iopub.execute_input": "2022-08-01T02:44:41.347997Z",
     "iopub.status.busy": "2022-08-01T02:44:41.347632Z",
     "iopub.status.idle": "2022-08-01T02:44:41.572105Z",
     "shell.execute_reply": "2022-08-01T02:44:41.571276Z"
    },
    "jupyter": {
     "outputs_hidden": false
    },
    "pycharm": {
     "name": "#%%\n"
    }
   },
   "outputs": [],
   "source": [
    "ps = problem.pareto_set(1000)\n",
    "Scatter(title=\"Pareto set\", labels=[\"$x_1$\", \"$x_2$\"]).add(ps).show()"
   ]
  },
  {
   "cell_type": "markdown",
   "metadata": {
    "pycharm": {
     "name": "#%% md\n"
    }
   },
   "source": [
    "## 3-dimensional case\n",
    "### Pareto front"
   ]
  },
  {
   "cell_type": "code",
   "execution_count": null,
   "metadata": {
    "execution": {
     "iopub.execute_input": "2022-08-01T02:44:41.576747Z",
     "iopub.status.busy": "2022-08-01T02:44:41.576309Z",
     "iopub.status.idle": "2022-08-01T02:44:41.787659Z",
     "shell.execute_reply": "2022-08-01T02:44:41.787011Z"
    },
    "jupyter": {
     "outputs_hidden": false
    },
    "pycharm": {
     "name": "#%%\n"
    }
   },
   "outputs": [],
   "source": [
    "problem = OmniTest(n_var=3)\n",
    "pf = problem.pareto_front(3000)\n",
    "Scatter(title=\"Pareto front\").add(pf).show()"
   ]
  },
  {
   "cell_type": "markdown",
   "metadata": {},
   "source": [
    "### Pareto set"
   ]
  },
  {
   "cell_type": "code",
   "execution_count": null,
   "metadata": {
    "execution": {
     "iopub.execute_input": "2022-08-01T02:44:41.797397Z",
     "iopub.status.busy": "2022-08-01T02:44:41.796900Z",
     "iopub.status.idle": "2022-08-01T02:44:41.999558Z",
     "shell.execute_reply": "2022-08-01T02:44:41.998639Z"
    },
    "jupyter": {
     "outputs_hidden": false
    },
    "pycharm": {
     "name": "#%%\n"
    }
   },
   "outputs": [],
   "source": [
    "import matplotlib.pyplot as plt\n",
    "\n",
    "ps = problem.pareto_set(1000)\n",
    "sc = Scatter(title=\"Pareto set\", labels=[\"$x_1$\", \"$x_2$\", \"$x_3$\"])\n",
    "sc.add(ps)\n",
    "sc.do()\n",
    "sc.ax.view_init(elev=20, azim=5)\n",
    "plt.show()"
   ]
  }
 ],
 "metadata": {},
 "nbformat": 4,
 "nbformat_minor": 4
}
