{
 "cells": [
  {
   "cell_type": "markdown",
   "metadata": {
    "pycharm": {
     "name": "#%% md\n"
    }
   },
   "source": [
    "# SYM-PART\n",
    "\n",
    "The SYM-PART <cite data-cite=\"sym_part\"></cite> problem suite is a multi-modal multi-objective optimization problem (MMOP).\n",
    "**In MMOPs, a solution $y$ in the objective space may have several inverse images in the decision space**.\n",
    "For this reason, an MMOP could have more than one Pareto subsets.\n",
    "\n",
    "The SYM-PART has two variants: SYM-PART simple and SYM-PART rotated. Both of them have the same Pareto front.\n",
    "But their Pareto sets are different."
   ]
  },
  {
   "cell_type": "markdown",
   "metadata": {
    "pycharm": {
     "name": "#%% md\n"
    }
   },
   "source": [
    "## 1. SYM-PART Simple"
   ]
  },
  {
   "cell_type": "markdown",
   "metadata": {
    "pycharm": {
     "name": "#%% md\n"
    }
   },
   "source": [
    "### Pareto subsets"
   ]
  },
  {
   "cell_type": "code",
   "execution_count": null,
   "metadata": {
    "execution": {
     "iopub.execute_input": "2022-08-01T02:44:58.291949Z",
     "iopub.status.busy": "2022-08-01T02:44:58.291257Z",
     "iopub.status.idle": "2022-08-01T02:44:58.734151Z",
     "shell.execute_reply": "2022-08-01T02:44:58.733475Z"
    },
    "jupyter": {
     "outputs_hidden": false
    },
    "pycharm": {
     "name": "#%%\n"
    }
   },
   "outputs": [],
   "source": [
    "from pymoo.problems.multi.sympart import SYMPART, SYMPARTRotated\n",
    "from pymoo.visualization.scatter import Scatter\n",
    "\n",
    "problem = SYMPART()\n",
    "ps = problem.pareto_set()\n",
    "Scatter(title=\"Pareto set\", xlabel=\"$x_1$\", ylabel=\"$x_2$\").add(ps).show()"
   ]
  },
  {
   "cell_type": "markdown",
   "metadata": {
    "pycharm": {
     "name": "#%% md\n"
    }
   },
   "source": [
    "### Pareto front"
   ]
  },
  {
   "cell_type": "code",
   "execution_count": null,
   "metadata": {
    "execution": {
     "iopub.execute_input": "2022-08-01T02:44:58.737804Z",
     "iopub.status.busy": "2022-08-01T02:44:58.737537Z",
     "iopub.status.idle": "2022-08-01T02:44:58.998541Z",
     "shell.execute_reply": "2022-08-01T02:44:58.997633Z"
    },
    "jupyter": {
     "outputs_hidden": false
    },
    "pycharm": {
     "name": "#%%\n"
    }
   },
   "outputs": [],
   "source": [
    "pf = problem.pareto_front()\n",
    "Scatter(title=\"Pareto front\").add(pf).show()"
   ]
  },
  {
   "cell_type": "markdown",
   "metadata": {},
   "source": [
    "## 2. SYM-PART Rotated\n",
    "### Pareto subsets\n",
    "The pareto subsets can be rotated."
   ]
  },
  {
   "cell_type": "code",
   "execution_count": null,
   "metadata": {
    "execution": {
     "iopub.execute_input": "2022-08-01T02:44:59.002159Z",
     "iopub.status.busy": "2022-08-01T02:44:59.001816Z",
     "iopub.status.idle": "2022-08-01T02:44:59.203937Z",
     "shell.execute_reply": "2022-08-01T02:44:59.203238Z"
    },
    "jupyter": {
     "outputs_hidden": false
    },
    "pycharm": {
     "name": "#%%\n"
    }
   },
   "outputs": [],
   "source": [
    "from numpy import pi\n",
    "\n",
    "# rotate pi/3 counter-clockwisely\n",
    "problem = SYMPARTRotated(angle=pi/3)\n",
    "ps = problem.pareto_set()\n",
    "Scatter(title=\"Pareto set\", xlabel=\"$x_1$\", ylabel=\"$x_2$\").add(ps).show()"
   ]
  },
  {
   "cell_type": "markdown",
   "metadata": {
    "pycharm": {
     "name": "#%% md\n"
    }
   },
   "source": [
    "### Pareto front"
   ]
  },
  {
   "cell_type": "code",
   "execution_count": null,
   "metadata": {
    "execution": {
     "iopub.execute_input": "2022-08-01T02:44:59.208109Z",
     "iopub.status.busy": "2022-08-01T02:44:59.207767Z",
     "iopub.status.idle": "2022-08-01T02:44:59.422745Z",
     "shell.execute_reply": "2022-08-01T02:44:59.422032Z"
    },
    "jupyter": {
     "outputs_hidden": false
    },
    "pycharm": {
     "name": "#%%\n"
    }
   },
   "outputs": [],
   "source": [
    "pf = problem.pareto_front()\n",
    "Scatter(title=\"Pareto front\").add(pf).show()"
   ]
  }
 ],
 "metadata": {},
 "nbformat": 4,
 "nbformat_minor": 4
}
