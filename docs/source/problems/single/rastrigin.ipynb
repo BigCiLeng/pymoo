{
 "cells": [
  {
   "cell_type": "raw",
   "metadata": {
    "raw_mimetype": "text/restructuredtext"
   },
   "source": [
    ".. _nb_rastrigin:"
   ]
  },
  {
   "cell_type": "markdown",
   "metadata": {},
   "source": [
    "## Rastrigin\n",
    "\n",
    "The Rastrigin function has several local minima. It is highly multimodal, but locations of the minima are regularly distributed. It is shown in the plot above in its two-dimensional form. "
   ]
  },
  {
   "cell_type": "markdown",
   "metadata": {},
   "source": [
    "**Definition**"
   ]
  },
  {
   "cell_type": "markdown",
   "metadata": {},
   "source": [
    "\\begin{align}\n",
    "\\begin{split}\n",
    "f(x) &=& 10n + \\sum\\limits_{i=1}^n {[x_i^2 - 10 \\cos{(2 \\pi x_i)}]} \\\\[2mm]\n",
    "&& -5.12 \\leq x_i \\leq 5.12 \\quad i=1,\\ldots,n\n",
    "\\end{split}\n",
    "\\end{align}"
   ]
  },
  {
   "cell_type": "markdown",
   "metadata": {},
   "source": [
    "**Optimum**"
   ]
  },
  {
   "cell_type": "markdown",
   "metadata": {},
   "source": [
    "$$f(x^*) = 0 \\; \\text{at} \\; x^* = (0,\\ldots,0) $$"
   ]
  },
  {
   "cell_type": "markdown",
   "metadata": {},
   "source": [
    "**Fitness Landscape**"
   ]
  },
  {
   "cell_type": "code",
   "execution_count": null,
   "metadata": {
    "execution": {
     "iopub.execute_input": "2022-08-01T02:45:21.911753Z",
     "iopub.status.busy": "2022-08-01T02:45:21.911382Z",
     "iopub.status.idle": "2022-08-01T02:45:22.846413Z",
     "shell.execute_reply": "2022-08-01T02:45:22.845492Z"
    }
   },
   "outputs": [],
   "source": [
    "import numpy as np\n",
    "\n",
    "from pymoo.problems import get_problem\n",
    "from pymoo.visualization.fitness_landscape import FitnessLandscape\n",
    "\n",
    "problem = get_problem(\"rastrigin\", n_var=2)\n",
    "\n",
    "FitnessLandscape(problem, angle=(45, 45), _type=\"surface\").show()"
   ]
  },
  {
   "cell_type": "code",
   "execution_count": null,
   "metadata": {
    "code": "usage_problem.py",
    "execution": {
     "iopub.execute_input": "2022-08-01T02:45:22.851798Z",
     "iopub.status.busy": "2022-08-01T02:45:22.851493Z",
     "iopub.status.idle": "2022-08-01T02:45:23.354857Z",
     "shell.execute_reply": "2022-08-01T02:45:23.353961Z"
    },
    "section": "rastrigin",
    "tags": []
   },
   "outputs": [],
   "source": [
    "FitnessLandscape(problem, _type=\"contour\", colorbar=True).show()"
   ]
  }
 ],
 "metadata": {},
 "nbformat": 4,
 "nbformat_minor": 4
}
