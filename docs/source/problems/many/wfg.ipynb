{
 "cells": [
  {
   "cell_type": "raw",
   "metadata": {
    "raw_mimetype": "text/restructuredtext"
   },
   "source": [
    ".. _nb_wfg:"
   ]
  },
  {
   "cell_type": "markdown",
   "metadata": {},
   "source": [
    "# WFG\n",
    "\n",
    "WFG1 to WFG9 are available."
   ]
  },
  {
   "cell_type": "code",
   "execution_count": null,
   "metadata": {
    "execution": {
     "iopub.execute_input": "2022-08-01T02:44:22.686061Z",
     "iopub.status.busy": "2022-08-01T02:44:22.685291Z",
     "iopub.status.idle": "2022-08-01T02:44:22.911445Z",
     "shell.execute_reply": "2022-08-01T02:44:22.910896Z"
    }
   },
   "outputs": [],
   "source": [
    "from pymoo.problems.many.wfg import WFG1\n",
    "wfg = WFG1(n_var=10, n_obj=3)"
   ]
  }
 ],
 "metadata": {},
 "nbformat": 4,
 "nbformat_minor": 4
}
