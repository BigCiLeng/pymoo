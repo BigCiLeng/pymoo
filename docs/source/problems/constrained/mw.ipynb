{
 "cells": [
  {
   "cell_type": "raw",
   "metadata": {
    "raw_mimetype": "text/restructuredtext"
   },
   "source": [
    ".. _nb_mw:"
   ]
  },
  {
   "cell_type": "markdown",
   "metadata": {},
   "source": [
    "## MW\n",
    "\n",
    "MW <cite data-cite=\"mw\"></cite> is a constrained multi-objective test suite constructed in a similar fashion to CTP or WFG with 3 different distance functions and 3 local adjustment methods. Most problems are biobjective problems, except MW4, MW8 and MW14 which are scalable ($m \\geq 3$).\n",
    "\n",
    "They aim at replacing the CTP test suite by proposing more complex problems with up to 4 inequality constraints."
   ]
  },
  {
   "cell_type": "code",
   "execution_count": null,
   "metadata": {
    "execution": {
     "iopub.execute_input": "2022-08-01T02:45:36.220879Z",
     "iopub.status.busy": "2022-08-01T02:45:36.220478Z",
     "iopub.status.idle": "2022-08-01T02:45:36.315923Z",
     "shell.execute_reply": "2022-08-01T02:45:36.315105Z"
    }
   },
   "outputs": [],
   "source": [
    "from pymoo.problems import get_problem\n",
    "from pymoo.util.plotting import plot\n",
    "from pymoo.problems import get_problem\n",
    "from pymoo.util.ref_dirs import get_reference_directions\n",
    "from pymoo.visualization.scatter import Scatter"
   ]
  },
  {
   "cell_type": "raw",
   "metadata": {
    "raw_mimetype": "text/restructuredtext"
   },
   "source": [
    ".. _nb_mw1:"
   ]
  },
  {
   "cell_type": "markdown",
   "metadata": {},
   "source": [
    "### MW1"
   ]
  },
  {
   "cell_type": "code",
   "execution_count": null,
   "metadata": {
    "code": "usage_problem.py",
    "execution": {
     "iopub.execute_input": "2022-08-01T02:45:36.319436Z",
     "iopub.status.busy": "2022-08-01T02:45:36.319177Z",
     "iopub.status.idle": "2022-08-01T02:45:36.475470Z",
     "shell.execute_reply": "2022-08-01T02:45:36.474539Z"
    },
    "section": "zdt1",
    "tags": []
   },
   "outputs": [],
   "source": [
    "\n",
    "\n",
    "problem = get_problem(\"mw1\")\n",
    "plot(problem.pareto_front(), no_fill=True)"
   ]
  },
  {
   "cell_type": "markdown",
   "metadata": {},
   "source": [
    "### MW2"
   ]
  },
  {
   "cell_type": "code",
   "execution_count": null,
   "metadata": {
    "execution": {
     "iopub.execute_input": "2022-08-01T02:45:36.479358Z",
     "iopub.status.busy": "2022-08-01T02:45:36.478790Z",
     "iopub.status.idle": "2022-08-01T02:45:36.609460Z",
     "shell.execute_reply": "2022-08-01T02:45:36.608559Z"
    }
   },
   "outputs": [],
   "source": [
    "problem = get_problem(\"mw2\")\n",
    "plot(problem.pareto_front(), no_fill=True)"
   ]
  },
  {
   "cell_type": "markdown",
   "metadata": {},
   "source": [
    "### MW3"
   ]
  },
  {
   "cell_type": "code",
   "execution_count": null,
   "metadata": {
    "execution": {
     "iopub.execute_input": "2022-08-01T02:45:36.613362Z",
     "iopub.status.busy": "2022-08-01T02:45:36.612941Z",
     "iopub.status.idle": "2022-08-01T02:45:36.801508Z",
     "shell.execute_reply": "2022-08-01T02:45:36.800668Z"
    }
   },
   "outputs": [],
   "source": [
    "problem = get_problem(\"mw3\")\n",
    "plot(problem.pareto_front(), no_fill=True)"
   ]
  },
  {
   "cell_type": "markdown",
   "metadata": {},
   "source": [
    "### MW4"
   ]
  },
  {
   "cell_type": "code",
   "execution_count": null,
   "metadata": {
    "execution": {
     "iopub.execute_input": "2022-08-01T02:45:36.805656Z",
     "iopub.status.busy": "2022-08-01T02:45:36.805130Z",
     "iopub.status.idle": "2022-08-01T02:45:37.187626Z",
     "shell.execute_reply": "2022-08-01T02:45:37.186971Z"
    },
    "tags": []
   },
   "outputs": [],
   "source": [
    "ref_dirs = get_reference_directions(\"das-dennis\", 3, n_partitions=12)\n",
    "pf = get_problem(\"mw4\").pareto_front(ref_dirs)\n",
    "Scatter(angle=(45,45)).add(pf, color=\"red\").show()"
   ]
  },
  {
   "cell_type": "markdown",
   "metadata": {},
   "source": [
    "### MW5"
   ]
  },
  {
   "cell_type": "code",
   "execution_count": null,
   "metadata": {
    "execution": {
     "iopub.execute_input": "2022-08-01T02:45:37.191850Z",
     "iopub.status.busy": "2022-08-01T02:45:37.191574Z",
     "iopub.status.idle": "2022-08-01T02:45:37.540499Z",
     "shell.execute_reply": "2022-08-01T02:45:37.539468Z"
    }
   },
   "outputs": [],
   "source": [
    "problem = get_problem(\"mw5\")\n",
    "plot(problem.pareto_front(), no_fill=True)"
   ]
  },
  {
   "cell_type": "markdown",
   "metadata": {},
   "source": [
    "### MW6"
   ]
  },
  {
   "cell_type": "code",
   "execution_count": null,
   "metadata": {
    "execution": {
     "iopub.execute_input": "2022-08-01T02:45:37.544266Z",
     "iopub.status.busy": "2022-08-01T02:45:37.544000Z",
     "iopub.status.idle": "2022-08-01T02:45:37.678602Z",
     "shell.execute_reply": "2022-08-01T02:45:37.677791Z"
    }
   },
   "outputs": [],
   "source": [
    "problem = get_problem(\"mw6\")\n",
    "plot(problem.pareto_front(), no_fill=True)"
   ]
  },
  {
   "cell_type": "markdown",
   "metadata": {},
   "source": [
    "### MW7"
   ]
  },
  {
   "cell_type": "code",
   "execution_count": null,
   "metadata": {
    "execution": {
     "iopub.execute_input": "2022-08-01T02:45:37.682556Z",
     "iopub.status.busy": "2022-08-01T02:45:37.682290Z",
     "iopub.status.idle": "2022-08-01T02:45:38.057918Z",
     "shell.execute_reply": "2022-08-01T02:45:38.057197Z"
    }
   },
   "outputs": [],
   "source": [
    "problem = get_problem(\"mw7\")\n",
    "plot(problem.pareto_front(), no_fill=True)"
   ]
  },
  {
   "cell_type": "markdown",
   "metadata": {},
   "source": [
    "### MW8"
   ]
  },
  {
   "cell_type": "code",
   "execution_count": null,
   "metadata": {
    "execution": {
     "iopub.execute_input": "2022-08-01T02:45:38.061527Z",
     "iopub.status.busy": "2022-08-01T02:45:38.061228Z",
     "iopub.status.idle": "2022-08-01T02:45:38.277828Z",
     "shell.execute_reply": "2022-08-01T02:45:38.276843Z"
    },
    "tags": []
   },
   "outputs": [],
   "source": [
    "ref_dirs = get_reference_directions(\"das-dennis\", 3, n_partitions=12)\n",
    "pf = get_problem(\"mw8\").pareto_front(ref_dirs)\n",
    "Scatter(angle=(45,45)).add(pf, color=\"red\").show()"
   ]
  },
  {
   "cell_type": "markdown",
   "metadata": {},
   "source": [
    "### MW9"
   ]
  },
  {
   "cell_type": "code",
   "execution_count": null,
   "metadata": {
    "execution": {
     "iopub.execute_input": "2022-08-01T02:45:38.282093Z",
     "iopub.status.busy": "2022-08-01T02:45:38.281792Z",
     "iopub.status.idle": "2022-08-01T02:45:38.659469Z",
     "shell.execute_reply": "2022-08-01T02:45:38.658813Z"
    }
   },
   "outputs": [],
   "source": [
    "problem = get_problem(\"mw9\")\n",
    "plot(problem.pareto_front(), no_fill=True)"
   ]
  },
  {
   "cell_type": "markdown",
   "metadata": {},
   "source": [
    "### MW10"
   ]
  },
  {
   "cell_type": "code",
   "execution_count": null,
   "metadata": {
    "execution": {
     "iopub.execute_input": "2022-08-01T02:45:38.665990Z",
     "iopub.status.busy": "2022-08-01T02:45:38.665727Z",
     "iopub.status.idle": "2022-08-01T02:45:39.057508Z",
     "shell.execute_reply": "2022-08-01T02:45:39.056201Z"
    }
   },
   "outputs": [],
   "source": [
    "problem = get_problem(\"mw10\")\n",
    "plot(problem.pareto_front(), no_fill=True)"
   ]
  },
  {
   "cell_type": "markdown",
   "metadata": {},
   "source": [
    "### MW11"
   ]
  },
  {
   "cell_type": "code",
   "execution_count": null,
   "metadata": {
    "execution": {
     "iopub.execute_input": "2022-08-01T02:45:39.062188Z",
     "iopub.status.busy": "2022-08-01T02:45:39.061887Z",
     "iopub.status.idle": "2022-08-01T02:45:39.485311Z",
     "shell.execute_reply": "2022-08-01T02:45:39.484469Z"
    }
   },
   "outputs": [],
   "source": [
    "problem = get_problem(\"mw11\")\n",
    "plot(problem.pareto_front(), no_fill=True)"
   ]
  },
  {
   "cell_type": "markdown",
   "metadata": {},
   "source": [
    "### MW12"
   ]
  },
  {
   "cell_type": "code",
   "execution_count": null,
   "metadata": {
    "execution": {
     "iopub.execute_input": "2022-08-01T02:45:39.489281Z",
     "iopub.status.busy": "2022-08-01T02:45:39.489015Z",
     "iopub.status.idle": "2022-08-01T02:45:39.634832Z",
     "shell.execute_reply": "2022-08-01T02:45:39.634026Z"
    }
   },
   "outputs": [],
   "source": [
    "problem = get_problem(\"mw12\")\n",
    "plot(problem.pareto_front(), no_fill=True)"
   ]
  },
  {
   "cell_type": "markdown",
   "metadata": {},
   "source": [
    "### MW13"
   ]
  },
  {
   "cell_type": "code",
   "execution_count": null,
   "metadata": {
    "execution": {
     "iopub.execute_input": "2022-08-01T02:45:39.638689Z",
     "iopub.status.busy": "2022-08-01T02:45:39.638287Z",
     "iopub.status.idle": "2022-08-01T02:45:40.046049Z",
     "shell.execute_reply": "2022-08-01T02:45:40.044994Z"
    }
   },
   "outputs": [],
   "source": [
    "problem = get_problem(\"mw13\")\n",
    "plot(problem.pareto_front(), no_fill=True)"
   ]
  },
  {
   "cell_type": "markdown",
   "metadata": {},
   "source": [
    "### MW14"
   ]
  },
  {
   "cell_type": "code",
   "execution_count": null,
   "metadata": {
    "execution": {
     "iopub.execute_input": "2022-08-01T02:45:40.050572Z",
     "iopub.status.busy": "2022-08-01T02:45:40.050304Z",
     "iopub.status.idle": "2022-08-01T02:45:40.588543Z",
     "shell.execute_reply": "2022-08-01T02:45:40.587552Z"
    },
    "tags": []
   },
   "outputs": [],
   "source": [
    "ref_dirs = get_reference_directions(\"das-dennis\", 3, n_partitions=12)\n",
    "pf = get_problem(\"mw14\").pareto_front()\n",
    "Scatter(angle=(45,45)).add(pf, color=\"red\").show()"
   ]
  },
  {
   "cell_type": "markdown",
   "metadata": {},
   "source": [
    "<sub>Python implementation by [cyrilpic](https://github.com/cyrilpic) based on the [original C++ code](http://www.escience.cn/people/yongwang1/index.html).</sub>"
   ]
  }
 ],
 "metadata": {},
 "nbformat": 4,
 "nbformat_minor": 4
}
