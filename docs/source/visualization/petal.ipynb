{
 "cells": [
  {
   "cell_type": "raw",
   "metadata": {
    "raw_mimetype": "text/restructuredtext"
   },
   "source": [
    ".. _nb_petal:"
   ]
  },
  {
   "cell_type": "markdown",
   "metadata": {},
   "source": [
    "## Petal Diagram\n"
   ]
  },
  {
   "cell_type": "markdown",
   "metadata": {},
   "source": [
    "Also, it might be interesting to compare one solution with another. Here, a visual a single solution regarding its trade-offs.\n",
    "\n",
    "Let us visualize some test data:"
   ]
  },
  {
   "cell_type": "code",
   "execution_count": null,
   "metadata": {
    "execution": {
     "iopub.execute_input": "2022-08-01T02:32:26.796799Z",
     "iopub.status.busy": "2022-08-01T02:32:26.796417Z",
     "iopub.status.idle": "2022-08-01T02:32:26.809287Z",
     "shell.execute_reply": "2022-08-01T02:32:26.808395Z"
    },
    "tags": []
   },
   "outputs": [],
   "source": [
    "import numpy as np\n",
    "\n",
    "np.random.seed(1234)\n",
    "F = np.random.random((1, 6))\n",
    "print(F)"
   ]
  },
  {
   "cell_type": "markdown",
   "metadata": {},
   "source": [
    "A simple petal plot can be created by:"
   ]
  },
  {
   "cell_type": "code",
   "execution_count": null,
   "metadata": {
    "execution": {
     "iopub.execute_input": "2022-08-01T02:32:26.813306Z",
     "iopub.status.busy": "2022-08-01T02:32:26.812995Z",
     "iopub.status.idle": "2022-08-01T02:32:27.151610Z",
     "shell.execute_reply": "2022-08-01T02:32:27.150807Z"
    },
    "tags": []
   },
   "outputs": [],
   "source": [
    "from pymoo.visualization.petal import Petal\n",
    "\n",
    "Petal(bounds=[0, 1]).add(F).show()"
   ]
  },
  {
   "cell_type": "markdown",
   "metadata": {},
   "source": [
    "If you prefer to visualize smaller values with a larger area, set `reverse=True`:"
   ]
  },
  {
   "cell_type": "code",
   "execution_count": null,
   "metadata": {
    "execution": {
     "iopub.execute_input": "2022-08-01T02:32:27.156284Z",
     "iopub.status.busy": "2022-08-01T02:32:27.155154Z",
     "iopub.status.idle": "2022-08-01T02:32:27.393666Z",
     "shell.execute_reply": "2022-08-01T02:32:27.392837Z"
    },
    "tags": []
   },
   "outputs": [],
   "source": [
    "Petal(bounds=[0, 1], reverse=True).add(F).show()"
   ]
  },
  {
   "cell_type": "code",
   "execution_count": null,
   "metadata": {
    "execution": {
     "iopub.execute_input": "2022-08-01T02:32:27.397598Z",
     "iopub.status.busy": "2022-08-01T02:32:27.397254Z",
     "iopub.status.idle": "2022-08-01T02:32:27.555955Z",
     "shell.execute_reply": "2022-08-01T02:32:27.555002Z"
    },
    "tags": []
   },
   "outputs": [],
   "source": [
    "plot = Petal(bounds=[0, 1],\n",
    "             cmap=\"tab20\",\n",
    "             labels=[\"profit\", \"cost\", \"sustainability\", \"environment\", \"satisfaction\", \"time\"],\n",
    "             title=(\"Solution A\", {'pad': 20}))\n",
    "plot.add(F)\n",
    "plot.show()"
   ]
  },
  {
   "cell_type": "markdown",
   "metadata": {},
   "source": [
    "Each add will plot solutions in a row. Each entry represents a column.\n",
    "Easily, different solutions can be compared."
   ]
  },
  {
   "cell_type": "code",
   "execution_count": null,
   "metadata": {
    "execution": {
     "iopub.execute_input": "2022-08-01T02:32:27.559618Z",
     "iopub.status.busy": "2022-08-01T02:32:27.559318Z",
     "iopub.status.idle": "2022-08-01T02:32:27.971698Z",
     "shell.execute_reply": "2022-08-01T02:32:27.971063Z"
    },
    "tags": []
   },
   "outputs": [],
   "source": [
    "F = np.random.random((6, 6))\n",
    "plot = Petal(bounds=[0, 1], title=[\"Solution %s\" % t for t in [\"A\", \"B\", \"C\", \"D\", \"E\", \"F\"]])\n",
    "plot.add(F[:3])\n",
    "plot.add(F[3:])\n",
    "plot.show()"
   ]
  },
  {
   "cell_type": "markdown",
   "metadata": {},
   "source": [
    "### API"
   ]
  },
  {
   "cell_type": "raw",
   "metadata": {
    "raw_mimetype": "text/restructuredtext"
   },
   "source": [
    ".. autoclass:: pymoo.visualization.petal.Petal\n",
    "    :noindex:"
   ]
  }
 ],
 "metadata": {},
 "nbformat": 4,
 "nbformat_minor": 4
}
