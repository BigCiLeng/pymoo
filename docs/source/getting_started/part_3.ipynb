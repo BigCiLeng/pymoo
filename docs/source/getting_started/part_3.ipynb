{
 "cells": [
  {
   "cell_type": "markdown",
   "metadata": {},
   "source": [
    ".. meta::\n",
    "   :description: A guide which introduces the most important steps to get started with pymoo, an open-source multi-objective optimization framework in Python."
   ]
  },
  {
   "cell_type": "markdown",
   "metadata": {},
   "source": [
    ".. meta::\n",
    "   :keywords: Multi-Criteria Decision Making, Multi-objective Optimization, Python, Evolutionary Computation, Optimization Test Problem"
   ]
  },
  {
   "cell_type": "raw",
   "metadata": {
    "raw_mimetype": "text/restructuredtext"
   },
   "source": [
    ".. _nb_getting_started_part3:"
   ]
  },
  {
   "cell_type": "code",
   "execution_count": null,
   "metadata": {
    "execution": {
     "iopub.execute_input": "2022-08-01T02:46:41.317242Z",
     "iopub.status.busy": "2022-08-01T02:46:41.316864Z",
     "iopub.status.idle": "2022-08-01T02:46:42.467955Z",
     "shell.execute_reply": "2022-08-01T02:46:42.466976Z"
    },
    "nbsphinx": "hidden"
   },
   "outputs": [],
   "source": [
    "%%capture\n",
    "%run ./part_2.ipynb"
   ]
  },
  {
   "cell_type": "markdown",
   "metadata": {},
   "source": [
    "# Part III: Multi-Criteria Decision Making"
   ]
  },
  {
   "cell_type": "markdown",
   "metadata": {},
   "source": [
    "Having now obtained a set of non-dominated solutions, one can ask how a decision-maker can nail down the set to only a few or even a single solution. This decision-making process for multi-objective problems is also known as Multi-Criteria Decision Making (MCDM). You should know that the main focus of *pymoo* lies in the optimization, not the MCDM part. However, the framework offers some rudimentary tools to find an appropriate solution.  "
   ]
  },
  {
   "cell_type": "markdown",
   "metadata": {},
   "source": [
    "The Pareto-optimal solutions obtained from the optimization procedure are given by:"
   ]
  },
  {
   "cell_type": "code",
   "execution_count": null,
   "metadata": {
    "execution": {
     "iopub.execute_input": "2022-08-01T02:46:42.472528Z",
     "iopub.status.busy": "2022-08-01T02:46:42.472040Z",
     "iopub.status.idle": "2022-08-01T02:46:42.637903Z",
     "shell.execute_reply": "2022-08-01T02:46:42.637121Z"
    }
   },
   "outputs": [],
   "source": [
    "F = res.F\n",
    "xl, xu = problem.bounds()\n",
    "plt.figure(figsize=(7, 5))\n",
    "plt.scatter(F[:, 0], F[:, 1], s=30, facecolors='none', edgecolors='blue')\n",
    "plt.title(\"Objective Space\")\n",
    "plt.show()"
   ]
  },
  {
   "cell_type": "markdown",
   "metadata": {},
   "source": [
    "Before we start using any technique, we should note that the objectives have a different scale. What has not been a problem for single-objective optimization because not more than one dimension existed now becomes fundamentally important to consider.  "
   ]
  },
  {
   "cell_type": "code",
   "execution_count": null,
   "metadata": {
    "execution": {
     "iopub.execute_input": "2022-08-01T02:46:42.641318Z",
     "iopub.status.busy": "2022-08-01T02:46:42.641019Z",
     "iopub.status.idle": "2022-08-01T02:46:42.645994Z",
     "shell.execute_reply": "2022-08-01T02:46:42.645252Z"
    }
   },
   "outputs": [],
   "source": [
    "fl = F.min(axis=0)\n",
    "fu = F.max(axis=0)\n",
    "print(f\"Scale f1: [{fl[0]}, {fu[0]}]\")\n",
    "print(f\"Scale f2: [{fl[1]}, {fu[1]}]\")"
   ]
  },
  {
   "cell_type": "markdown",
   "metadata": {},
   "source": [
    "As one can observe, the lower and upper bounds of the objectives $f_1$ and $f_2$ are very different, and such normalization is required."
   ]
  },
  {
   "cell_type": "raw",
   "metadata": {
    "raw_mimetype": "text/restructuredtext"
   },
   "source": [
    ".. warning::\n",
    "    Without normalization, we are comparing **oranges with apples**. The first objective will dominate any distance calculation in the objective space because of its larger scale. Handling different scales of objectives is an inherent part of any multi-objective algorithms, and, thus, we need to do the same for post-processing. "
   ]
  },
  {
   "cell_type": "markdown",
   "metadata": {},
   "source": [
    "A common way is normalizing using the so-called ideal and nadir point. However, for the decision-making purpose here and the sake of generalization, we assume the ideal and nadir points (also referred to as boundary points) and the Pareto-front) are not known.\n",
    "Thus the points can be approximated by:"
   ]
  },
  {
   "cell_type": "code",
   "execution_count": null,
   "metadata": {
    "execution": {
     "iopub.execute_input": "2022-08-01T02:46:42.649297Z",
     "iopub.status.busy": "2022-08-01T02:46:42.649036Z",
     "iopub.status.idle": "2022-08-01T02:46:42.652445Z",
     "shell.execute_reply": "2022-08-01T02:46:42.651884Z"
    }
   },
   "outputs": [],
   "source": [
    "approx_ideal = F.min(axis=0)\n",
    "approx_nadir = F.max(axis=0)"
   ]
  },
  {
   "cell_type": "code",
   "execution_count": null,
   "metadata": {
    "execution": {
     "iopub.execute_input": "2022-08-01T02:46:42.655551Z",
     "iopub.status.busy": "2022-08-01T02:46:42.655285Z",
     "iopub.status.idle": "2022-08-01T02:46:42.836667Z",
     "shell.execute_reply": "2022-08-01T02:46:42.835405Z"
    }
   },
   "outputs": [],
   "source": [
    "plt.figure(figsize=(7, 5))\n",
    "plt.scatter(F[:, 0], F[:, 1], s=30, facecolors='none', edgecolors='blue')\n",
    "plt.scatter(approx_ideal[0], approx_ideal[1], facecolors='none', edgecolors='red', marker=\"*\", s=100, label=\"Ideal Point (Approx)\")\n",
    "plt.scatter(approx_nadir[0], approx_nadir[1], facecolors='none', edgecolors='black', marker=\"p\", s=100, label=\"Nadir Point (Approx)\")\n",
    "plt.title(\"Objective Space\")\n",
    "plt.legend()\n",
    "plt.show()"
   ]
  },
  {
   "cell_type": "markdown",
   "metadata": {},
   "source": [
    "Normalizing the obtained objective values regarding the boundary points is relatively simple by:"
   ]
  },
  {
   "cell_type": "code",
   "execution_count": null,
   "metadata": {
    "execution": {
     "iopub.execute_input": "2022-08-01T02:46:42.840293Z",
     "iopub.status.busy": "2022-08-01T02:46:42.839997Z",
     "iopub.status.idle": "2022-08-01T02:46:42.990294Z",
     "shell.execute_reply": "2022-08-01T02:46:42.989547Z"
    }
   },
   "outputs": [],
   "source": [
    "nF = (F - approx_ideal) / (approx_nadir - approx_ideal)\n",
    "\n",
    "fl = nF.min(axis=0)\n",
    "fu = nF.max(axis=0)\n",
    "print(f\"Scale f1: [{fl[0]}, {fu[0]}]\")\n",
    "print(f\"Scale f2: [{fl[1]}, {fu[1]}]\")\n",
    "\n",
    "plt.figure(figsize=(7, 5))\n",
    "plt.scatter(nF[:, 0], nF[:, 1], s=30, facecolors='none', edgecolors='blue')\n",
    "plt.title(\"Objective Space\")\n",
    "plt.show()"
   ]
  },
  {
   "cell_type": "markdown",
   "metadata": {},
   "source": [
    "### Compromise Programming"
   ]
  },
  {
   "cell_type": "markdown",
   "metadata": {},
   "source": [
    "Without going into too much detail in this getting started guide, one way for decision-making is using decomposition functions. They require the definition of weights that reflect the user's wishes. A vector gives the weights with only positive float numbers summing up to one and a length equal to the number of objectives.\n",
    "\n",
    "Here for a bi-objective problem, let us assume the first objective is less a bit less important than the second objective by setting the weights to"
   ]
  },
  {
   "cell_type": "code",
   "execution_count": null,
   "metadata": {
    "execution": {
     "iopub.execute_input": "2022-08-01T02:46:42.993745Z",
     "iopub.status.busy": "2022-08-01T02:46:42.993477Z",
     "iopub.status.idle": "2022-08-01T02:46:42.997025Z",
     "shell.execute_reply": "2022-08-01T02:46:42.996240Z"
    }
   },
   "outputs": [],
   "source": [
    "weights = np.array([0.2, 0.8])"
   ]
  },
  {
   "cell_type": "markdown",
   "metadata": {},
   "source": [
    "Next, we choose the decomposition method called Augmented Scalarization Function (ASF), a well-known metric in the multi-objective optimization literature. "
   ]
  },
  {
   "cell_type": "code",
   "execution_count": null,
   "metadata": {
    "execution": {
     "iopub.execute_input": "2022-08-01T02:46:43.000717Z",
     "iopub.status.busy": "2022-08-01T02:46:43.000414Z",
     "iopub.status.idle": "2022-08-01T02:46:43.005502Z",
     "shell.execute_reply": "2022-08-01T02:46:43.004839Z"
    }
   },
   "outputs": [],
   "source": [
    "from pymoo.decomposition.asf import ASF\n",
    "\n",
    "decomp = ASF()"
   ]
  },
  {
   "cell_type": "markdown",
   "metadata": {},
   "source": [
    "Now let us obtain the best solution regarding the ASF. Because ASF is supposed to be minimized, we choose the minimum ASF values calculated from all solutions. You might be wondering why the weights are not passed directly, but `1/weights`. For ASF, different formulations exist, one where the values are divided and one where they are multiplied. In *pymoo*, we divide, which does not reflect the idea of the user's criteria. Thus, the inverse needs to be applied. No worries if this is too much detail for now; however, decision-making about decomposition techniques is vital."
   ]
  },
  {
   "cell_type": "code",
   "execution_count": null,
   "metadata": {
    "execution": {
     "iopub.execute_input": "2022-08-01T02:46:43.008758Z",
     "iopub.status.busy": "2022-08-01T02:46:43.008493Z",
     "iopub.status.idle": "2022-08-01T02:46:43.012150Z",
     "shell.execute_reply": "2022-08-01T02:46:43.011561Z"
    }
   },
   "outputs": [],
   "source": [
    "i = decomp.do(nF, 1/weights).argmin()"
   ]
  },
  {
   "cell_type": "markdown",
   "metadata": {},
   "source": [
    "After having found a solution ($i$) we can operate on the original scale to represent the results:"
   ]
  },
  {
   "cell_type": "code",
   "execution_count": null,
   "metadata": {
    "execution": {
     "iopub.execute_input": "2022-08-01T02:46:43.015173Z",
     "iopub.status.busy": "2022-08-01T02:46:43.014905Z",
     "iopub.status.idle": "2022-08-01T02:46:43.178804Z",
     "shell.execute_reply": "2022-08-01T02:46:43.178147Z"
    }
   },
   "outputs": [],
   "source": [
    "print(\"Best regarding ASF: Point \\ni = %s\\nF = %s\" % (i, F[i]))\n",
    "\n",
    "plt.figure(figsize=(7, 5))\n",
    "plt.scatter(F[:, 0], F[:, 1], s=30, facecolors='none', edgecolors='blue')\n",
    "plt.scatter(F[i, 0], F[i, 1], marker=\"x\", color=\"red\", s=200)\n",
    "plt.title(\"Objective Space\")\n",
    "plt.show()"
   ]
  },
  {
   "cell_type": "raw",
   "metadata": {
    "raw_mimetype": "text/restructuredtext"
   },
   "source": [
    ".. tip::\n",
    "    One benefit of this approach is that any kind of decomposition function can be used."
   ]
  },
  {
   "cell_type": "markdown",
   "metadata": {},
   "source": [
    "### Pseudo-Weights"
   ]
  },
  {
   "cell_type": "markdown",
   "metadata": {},
   "source": [
    "A simple way to chose a solution out of a solution set in the context of multi-objective optimization is the pseudo-weight vector approach proposed in <cite data-cite=\"multi_objective_book\"></cite>. Respectively, the pseudo weight $w_i$ for the i-ith objective function can be calculated by:\n",
    "\n",
    "\\begin{equation}\n",
    "w_i = \\frac{(f_i^{max} - f_i {(x)}) \\, /\\,  (f_i^{max} - f_i^{min})}{\\sum_{m=1}^M (f_m^{max} - f_m (x)) \\, /\\,  (f_m^{max} - f_m^{min})}  \n",
    "\\end{equation}\n",
    "\n",
    "This equation calculates the normalized distance to the worst solution regarding each objective $i$. Please note that for non-convex Pareto fronts, the pseudo weight does not correspond to the result of an optimization using the weighted sum. However, for convex Pareto-fronts, the pseudo weights indicate the location in the objective space."
   ]
  },
  {
   "cell_type": "code",
   "execution_count": null,
   "metadata": {
    "execution": {
     "iopub.execute_input": "2022-08-01T02:46:43.182343Z",
     "iopub.status.busy": "2022-08-01T02:46:43.182005Z",
     "iopub.status.idle": "2022-08-01T02:46:43.188364Z",
     "shell.execute_reply": "2022-08-01T02:46:43.187797Z"
    }
   },
   "outputs": [],
   "source": [
    "from pymoo.mcdm.pseudo_weights import PseudoWeights\n",
    "\n",
    "i = PseudoWeights(weights).do(nF)"
   ]
  },
  {
   "cell_type": "code",
   "execution_count": null,
   "metadata": {
    "execution": {
     "iopub.execute_input": "2022-08-01T02:46:43.196452Z",
     "iopub.status.busy": "2022-08-01T02:46:43.196145Z",
     "iopub.status.idle": "2022-08-01T02:46:43.363586Z",
     "shell.execute_reply": "2022-08-01T02:46:43.362634Z"
    },
    "tags": []
   },
   "outputs": [],
   "source": [
    "print(\"Best regarding Pseudo Weights: Point \\ni = %s\\nF = %s\" % (i, F[i]))\n",
    "\n",
    "plt.figure(figsize=(7, 5))\n",
    "plt.scatter(F[:, 0], F[:, 1], s=30, facecolors='none', edgecolors='blue')\n",
    "plt.scatter(F[i, 0], F[i, 1], marker=\"x\", color=\"red\", s=200)\n",
    "plt.title(\"Objective Space\")\n",
    "plt.show()"
   ]
  }
 ],
 "metadata": {},
 "nbformat": 4,
 "nbformat_minor": 4
}
