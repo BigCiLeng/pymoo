{
 "cells": [
  {
   "cell_type": "raw",
   "metadata": {
    "raw_mimetype": "text/restructuredtext"
   },
   "source": [
    ".. _nb_sampling:"
   ]
  },
  {
   "cell_type": "markdown",
   "metadata": {},
   "source": [
    "## Sampling"
   ]
  },
  {
   "cell_type": "markdown",
   "metadata": {},
   "source": [
    "In the beginning, initial points need to be sampled. *pymoo* offers different sampling methods depending on the variable type."
   ]
  },
  {
   "cell_type": "raw",
   "metadata": {
    "raw_mimetype": "text/restructuredtext"
   },
   "source": [
    ".. _nb_sampling_random:"
   ]
  },
  {
   "cell_type": "markdown",
   "metadata": {},
   "source": [
    "### Random Sampling"
   ]
  },
  {
   "cell_type": "code",
   "execution_count": null,
   "metadata": {
    "execution": {
     "iopub.execute_input": "2022-08-01T02:35:36.859235Z",
     "iopub.status.busy": "2022-08-01T02:35:36.858851Z",
     "iopub.status.idle": "2022-08-01T02:35:37.056453Z",
     "shell.execute_reply": "2022-08-01T02:35:37.055714Z"
    },
    "tags": []
   },
   "outputs": [],
   "source": [
    "from pymoo.core.problem import Problem\n",
    "from pymoo.operators.sampling.rnd import FloatRandomSampling\n",
    "from pymoo.util import plotting\n",
    "\n",
    "problem = Problem(n_var=2, xl=0, xu=1)\n",
    "\n",
    "sampling = FloatRandomSampling()\n",
    "\n",
    "X = sampling(problem, 200).get(\"X\")\n",
    "plotting.plot(X, no_fill=True)"
   ]
  },
  {
   "cell_type": "raw",
   "metadata": {
    "raw_mimetype": "text/restructuredtext"
   },
   "source": [
    ".. _nb_sampling_lhs:"
   ]
  },
  {
   "cell_type": "markdown",
   "metadata": {},
   "source": [
    "### Latin Hypercube Sampling"
   ]
  },
  {
   "cell_type": "code",
   "execution_count": null,
   "metadata": {
    "execution": {
     "iopub.execute_input": "2022-08-01T02:35:37.060357Z",
     "iopub.status.busy": "2022-08-01T02:35:37.060015Z",
     "iopub.status.idle": "2022-08-01T02:35:37.318270Z",
     "shell.execute_reply": "2022-08-01T02:35:37.317132Z"
    },
    "tags": []
   },
   "outputs": [],
   "source": [
    "from pymoo.operators.sampling.lhs import LHS\n",
    "\n",
    "sampling = LHS()\n",
    "\n",
    "X = sampling(problem, 200).get(\"X\")\n",
    "plotting.plot(X, no_fill=True)"
   ]
  },
  {
   "cell_type": "markdown",
   "metadata": {},
   "source": [
    "### API"
   ]
  },
  {
   "cell_type": "raw",
   "metadata": {
    "raw_mimetype": "text/restructuredtext"
   },
   "source": [
    ".. autofunction:: pymoo.factory.get_sampling\n",
    "    :noindex:\n",
    "\n",
    ".. autofunction:: pymoo.core.sampling.Sampling\n",
    "    :noindex:"
   ]
  }
 ],
 "metadata": {},
 "nbformat": 4,
 "nbformat_minor": 4
}
