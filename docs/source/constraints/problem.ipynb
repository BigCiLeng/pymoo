{
 "cells": [
  {
   "cell_type": "raw",
   "id": "c23dfa57-d50b-4b8a-bfa3-917993a5a7ad",
   "metadata": {
    "raw_mimetype": "text/restructuredtext"
   },
   "source": [
    ".. _nb_constraints_problem:"
   ]
  },
  {
   "cell_type": "markdown",
   "id": "e7d6f7de-9364-4ad1-a88a-6888fbb358c3",
   "metadata": {},
   "source": [
    "## Constrained Problem"
   ]
  }
 ],
 "metadata": {},
 "nbformat": 4,
 "nbformat_minor": 5
}
