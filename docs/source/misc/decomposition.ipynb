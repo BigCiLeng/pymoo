{
 "cells": [
  {
   "cell_type": "raw",
   "metadata": {
    "raw_mimetype": "text/restructuredtext"
   },
   "source": [
    ".. _nb_decomposition:"
   ]
  },
  {
   "cell_type": "markdown",
   "metadata": {},
   "source": [
    "## Decomposition"
   ]
  },
  {
   "cell_type": "markdown",
   "metadata": {},
   "source": [
    "Also, multi-objective problems can be decomposed using a scalarization function.\n",
    "In the following, the contour lines of different methods are shown.\n",
    "\n",
    "Let us first make the necessary imports and define the points in the design space:"
   ]
  },
  {
   "cell_type": "code",
   "execution_count": null,
   "metadata": {
    "execution": {
     "iopub.execute_input": "2022-08-01T02:33:08.651604Z",
     "iopub.status.busy": "2022-08-01T02:33:08.651098Z",
     "iopub.status.idle": "2022-08-01T02:33:08.667516Z",
     "shell.execute_reply": "2022-08-01T02:33:08.666018Z"
    },
    "tags": []
   },
   "outputs": [],
   "source": [
    "import matplotlib.pyplot as plt\n",
    "import numpy as np\n",
    "from pymoo.util.misc import all_combinations\n",
    "\n",
    "# number of points to be used for plotting\n",
    "n_points = 100\n",
    "\n",
    "# the xlim\n",
    "P = np.linspace(0, 3, n_points)\n",
    "\n",
    "# used for the meshgrid\n",
    "X = all_combinations(P,P)"
   ]
  },
  {
   "cell_type": "markdown",
   "metadata": {},
   "source": [
    "A method to plot the contours:"
   ]
  },
  {
   "cell_type": "code",
   "execution_count": null,
   "metadata": {
    "execution": {
     "iopub.execute_input": "2022-08-01T02:33:08.671442Z",
     "iopub.status.busy": "2022-08-01T02:33:08.671126Z",
     "iopub.status.idle": "2022-08-01T02:33:08.676203Z",
     "shell.execute_reply": "2022-08-01T02:33:08.675469Z"
    },
    "tags": []
   },
   "outputs": [],
   "source": [
    "def plot_contour(X, F):\n",
    "    _X = X[:, 0].reshape((n_points,n_points))\n",
    "    _Y = X[:, 1].reshape((n_points,n_points))\n",
    "    _Z = F.reshape((n_points,n_points))\n",
    "    \n",
    "    fig, ax = plt.subplots()\n",
    "    ax.contour(_X,_Y, _Z, colors='black')\n",
    "    ax.arrow(0, 0, 2.5, 2.5, color='blue', head_width=0.1, head_length=0.1, alpha=0.4)\n",
    "    ax.set_aspect('equal')"
   ]
  },
  {
   "cell_type": "markdown",
   "metadata": {},
   "source": [
    "And then define the weights to be used by the decomposition functions:"
   ]
  },
  {
   "cell_type": "code",
   "execution_count": null,
   "metadata": {
    "execution": {
     "iopub.execute_input": "2022-08-01T02:33:08.679520Z",
     "iopub.status.busy": "2022-08-01T02:33:08.679236Z",
     "iopub.status.idle": "2022-08-01T02:33:08.682491Z",
     "shell.execute_reply": "2022-08-01T02:33:08.681852Z"
    },
    "tags": []
   },
   "outputs": [],
   "source": [
    "weights = [0.5, 0.5]"
   ]
  },
  {
   "cell_type": "raw",
   "metadata": {
    "raw_mimetype": "text/restructuredtext"
   },
   "source": [
    ".. _nb_weighted_sum:"
   ]
  },
  {
   "cell_type": "markdown",
   "metadata": {},
   "source": [
    "### Weighted Sum"
   ]
  },
  {
   "cell_type": "code",
   "execution_count": null,
   "metadata": {
    "execution": {
     "iopub.execute_input": "2022-08-01T02:33:08.685563Z",
     "iopub.status.busy": "2022-08-01T02:33:08.685307Z",
     "iopub.status.idle": "2022-08-01T02:33:08.836827Z",
     "shell.execute_reply": "2022-08-01T02:33:08.836002Z"
    },
    "tags": []
   },
   "outputs": [],
   "source": [
    "from pymoo.decomposition.weighted_sum import WeightedSum\n",
    "\n",
    "dm = WeightedSum()\n",
    "plot_contour(X, dm(X, weights=weights))"
   ]
  },
  {
   "cell_type": "raw",
   "metadata": {
    "raw_mimetype": "text/restructuredtext"
   },
   "source": [
    ".. _nb_tchebyshev:"
   ]
  },
  {
   "cell_type": "markdown",
   "metadata": {},
   "source": [
    "### Tchebysheff"
   ]
  },
  {
   "cell_type": "code",
   "execution_count": null,
   "metadata": {
    "execution": {
     "iopub.execute_input": "2022-08-01T02:33:08.840645Z",
     "iopub.status.busy": "2022-08-01T02:33:08.840058Z",
     "iopub.status.idle": "2022-08-01T02:33:08.973157Z",
     "shell.execute_reply": "2022-08-01T02:33:08.971983Z"
    },
    "tags": []
   },
   "outputs": [],
   "source": [
    "from pymoo.decomposition.tchebicheff import Tchebicheff\n",
    "\n",
    "dm = Tchebicheff()\n",
    "plot_contour(X, dm(X, weights=weights))"
   ]
  },
  {
   "cell_type": "raw",
   "metadata": {
    "raw_mimetype": "text/restructuredtext"
   },
   "source": [
    ".. _nb_asf:"
   ]
  },
  {
   "cell_type": "markdown",
   "metadata": {},
   "source": [
    "### Achievement Scalarization Function (ASF)"
   ]
  },
  {
   "cell_type": "markdown",
   "metadata": {},
   "source": [
    "Details can be found in <cite data-cite=\"asf\"></cite>."
   ]
  },
  {
   "cell_type": "code",
   "execution_count": null,
   "metadata": {
    "execution": {
     "iopub.execute_input": "2022-08-01T02:33:08.978997Z",
     "iopub.status.busy": "2022-08-01T02:33:08.977720Z",
     "iopub.status.idle": "2022-08-01T02:33:09.114734Z",
     "shell.execute_reply": "2022-08-01T02:33:09.113826Z"
    },
    "tags": []
   },
   "outputs": [],
   "source": [
    "from pymoo.decomposition.asf import ASF\n",
    "\n",
    "dm = ASF(eps=0.0)\n",
    "\n",
    "plot_contour(X, dm(X, weights=weights))"
   ]
  },
  {
   "cell_type": "raw",
   "metadata": {
    "raw_mimetype": "text/restructuredtext"
   },
   "source": [
    ".. _nb_aasf:"
   ]
  },
  {
   "cell_type": "markdown",
   "metadata": {},
   "source": [
    "### Augmented Achievement Scalarization Function (AASF)"
   ]
  },
  {
   "cell_type": "markdown",
   "metadata": {},
   "source": [
    "Details can be found in <cite data-cite=\"aasf\"></cite>."
   ]
  },
  {
   "cell_type": "code",
   "execution_count": null,
   "metadata": {
    "execution": {
     "iopub.execute_input": "2022-08-01T02:33:09.118494Z",
     "iopub.status.busy": "2022-08-01T02:33:09.118107Z",
     "iopub.status.idle": "2022-08-01T02:33:09.255106Z",
     "shell.execute_reply": "2022-08-01T02:33:09.254290Z"
    },
    "tags": []
   },
   "outputs": [],
   "source": [
    "from pymoo.decomposition.aasf import AASF\n",
    "\n",
    "dm = AASF(eps=0.0, beta=5)\n",
    "\n",
    "plot_contour(X, dm(X, weights=weights))"
   ]
  },
  {
   "cell_type": "code",
   "execution_count": null,
   "metadata": {
    "execution": {
     "iopub.execute_input": "2022-08-01T02:33:09.259031Z",
     "iopub.status.busy": "2022-08-01T02:33:09.258769Z",
     "iopub.status.idle": "2022-08-01T02:33:09.443220Z",
     "shell.execute_reply": "2022-08-01T02:33:09.442256Z"
    },
    "tags": []
   },
   "outputs": [],
   "source": [
    "dm = AASF(eps=0.0, beta=25)\n",
    "\n",
    "plot_contour(X, dm(X, weights=weights))"
   ]
  },
  {
   "cell_type": "raw",
   "metadata": {
    "raw_mimetype": "text/restructuredtext"
   },
   "source": [
    ".. _nb_pbi:"
   ]
  },
  {
   "cell_type": "markdown",
   "metadata": {},
   "source": [
    "### PBI"
   ]
  },
  {
   "cell_type": "code",
   "execution_count": null,
   "metadata": {
    "execution": {
     "iopub.execute_input": "2022-08-01T02:33:09.446829Z",
     "iopub.status.busy": "2022-08-01T02:33:09.446521Z",
     "iopub.status.idle": "2022-08-01T02:33:09.586560Z",
     "shell.execute_reply": "2022-08-01T02:33:09.585592Z"
    },
    "tags": []
   },
   "outputs": [],
   "source": [
    "from pymoo.decomposition.pbi import PBI\n",
    "\n",
    "dm = PBI(eps=0.0, theta=0.5)\n",
    "\n",
    "plot_contour(X, dm(X, weights=weights))"
   ]
  },
  {
   "cell_type": "code",
   "execution_count": null,
   "metadata": {
    "execution": {
     "iopub.execute_input": "2022-08-01T02:33:09.590278Z",
     "iopub.status.busy": "2022-08-01T02:33:09.590014Z",
     "iopub.status.idle": "2022-08-01T02:33:09.714613Z",
     "shell.execute_reply": "2022-08-01T02:33:09.713682Z"
    },
    "tags": []
   },
   "outputs": [],
   "source": [
    "dm = PBI(eps=0.0, theta=1.0)\n",
    "plot_contour(X, dm(X, weights=weights))"
   ]
  },
  {
   "cell_type": "code",
   "execution_count": null,
   "metadata": {
    "execution": {
     "iopub.execute_input": "2022-08-01T02:33:09.718653Z",
     "iopub.status.busy": "2022-08-01T02:33:09.718164Z",
     "iopub.status.idle": "2022-08-01T02:33:09.848017Z",
     "shell.execute_reply": "2022-08-01T02:33:09.847343Z"
    },
    "tags": []
   },
   "outputs": [],
   "source": [
    "dm = PBI(eps=0.0, theta=5.0)\n",
    "plot_contour(X, dm(X, weights=weights))"
   ]
  }
 ],
 "metadata": {},
 "nbformat": 4,
 "nbformat_minor": 4
}
