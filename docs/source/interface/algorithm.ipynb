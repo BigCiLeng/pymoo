{
 "cells": [
  {
   "cell_type": "markdown",
   "metadata": {
    "raw_mimetype": "text/restructuredtext"
   },
   "source": [
    ".. _nb_interface_algorithm:"
   ]
  },
  {
   "cell_type": "markdown",
   "metadata": {},
   "source": [
    "## Algorithm\n"
   ]
  },
  {
   "cell_type": "markdown",
   "metadata": {},
   "source": [
    "After having defined the problem, a suitable algorithm for optimizing it has to be found. This can be challenging and might require some literature research. *pymoo* offers quite a few standard implementations of well-known algorithms that can be quite useful in obtaining quick results or prototyping."
   ]
  },
  {
   "cell_type": "markdown",
   "metadata": {},
   "source": [
    "Each algorithm has different parameters to be initialized. For the functional interface, the `algorithm` object needs to be passed to the `minimize` method, starting the optimization run. For instance, for `NSGA2` the object can be initialized as follows:"
   ]
  },
  {
   "cell_type": "code",
   "execution_count": null,
   "metadata": {
    "execution": {
     "iopub.execute_input": "2022-08-01T02:34:37.687564Z",
     "iopub.status.busy": "2022-08-01T02:34:37.687148Z",
     "iopub.status.idle": "2022-08-01T02:34:37.734206Z",
     "shell.execute_reply": "2022-08-01T02:34:37.733460Z"
    }
   },
   "outputs": [],
   "source": [
    "from pymoo.algorithms.moo.nsga2 import NSGA2\n",
    "\n",
    "algorithm = NSGA2()"
   ]
  },
  {
   "cell_type": "markdown",
   "metadata": {},
   "source": [
    "For more details about algorithms, please have a look at this [tutorial](../algorithms/index.ipynb)."
   ]
  }
 ],
 "metadata": {},
 "nbformat": 4,
 "nbformat_minor": 4
}
