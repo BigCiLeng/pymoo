{
 "cells": [
  {
   "cell_type": "raw",
   "id": "1c4f9d85-e64f-4680-a937-1079d69d5c33",
   "metadata": {
    "raw_mimetype": "text/restructuredtext"
   },
   "source": [
    ".. _nb_dnsga2:"
   ]
  },
  {
   "cell_type": "markdown",
   "id": "f0a1dfd8-a241-4f73-b8db-3ed46ae7fd23",
   "metadata": {
    "tags": []
   },
   "source": [
    "# D-NSGA-II: Dynamic Multi-Objective Optimization Using Modified NSGA-II"
   ]
  },
  {
   "cell_type": "markdown",
   "id": "3d603308-5299-4d16-97ad-2c5019f5ce4c",
   "metadata": {},
   "source": [
    "The algorithm is implemented based on <cite data-cite=\"dnsga2\"></cite>. D-NSGA-II modifies the commonly-used NSGA-II procedure in tracking a new Pareto-optimal front as soon as there is a change in the problem. The introduction of a few random solutions or a few mutated solutions provides some diversity and gives the algorithm a chance to escape from a local optimum over time."
   ]
  },
  {
   "cell_type": "code",
   "execution_count": null,
   "id": "4a786da2-8c26-406e-ad1e-c6f0159793c1",
   "metadata": {
    "execution": {
     "iopub.execute_input": "2022-08-01T02:40:29.361615Z",
     "iopub.status.busy": "2022-08-01T02:40:29.360969Z",
     "iopub.status.idle": "2022-08-01T02:40:33.474285Z",
     "shell.execute_reply": "2022-08-01T02:40:33.473443Z"
    }
   },
   "outputs": [],
   "source": [
    "from pymoo.algorithms.moo.dnsga2 import DNSGA2\n",
    "from pymoo.core.callback import CallbackCollection, Callback\n",
    "from pymoo.optimize import minimize\n",
    "from pymoo.problems.dyn import TimeSimulation\n",
    "from pymoo.problems.dynamic.df import DF1\n",
    "import matplotlib.pyplot as plt\n",
    "\n",
    "problem = DF1(taut=2, n_var=2)\n",
    "\n",
    "algorithm = DNSGA2()\n",
    "\n",
    "simulation = TimeSimulation()\n",
    "\n",
    "\n",
    "class ObjectiveSpaceAnimation(Callback):\n",
    "\n",
    "    def _update(self, algorithm):\n",
    "        \n",
    "        if algorithm.n_gen % 20 == 0:\n",
    "            F = algorithm.opt.get(\"F\")\n",
    "            pf = algorithm.problem.pareto_front()\n",
    "\n",
    "            plt.clf()\n",
    "            plt.scatter(F[:, 0], F[:, 1])\n",
    "            if pf is not None:\n",
    "                plt.plot(pf[:, 0], pf[:, 1], color=\"black\", alpha=0.7)\n",
    "\n",
    "            plt.show()\n",
    "\n",
    "res = minimize(problem,\n",
    "               algorithm,\n",
    "               termination=('n_gen', 100),\n",
    "               callback=CallbackCollection(ObjectiveSpaceAnimation(), simulation),\n",
    "               seed=1,\n",
    "               verbose=True)\n"
   ]
  }
 ],
 "metadata": {},
 "nbformat": 4,
 "nbformat_minor": 5
}
