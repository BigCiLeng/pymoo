{
 "cells": [
  {
   "cell_type": "raw",
   "metadata": {
    "raw_mimetype": "text/restructuredtext"
   },
   "source": [
    ".. _nb_pattern_search:"
   ]
  },
  {
   "cell_type": "markdown",
   "metadata": {},
   "source": [
    "# Pattern Search"
   ]
  },
  {
   "cell_type": "markdown",
   "metadata": {},
   "source": [
    "An implementation of well-known Hooke and Jeeves Pattern Search <cite data-cite=\"pattern_search\"></cite> for single-objective optimization which makes use of *exploration* and *pattern* moves in an alternating manner. \n",
    "For now, we like to refer to [Wikipedia](https://en.wikipedia.org/wiki/Pattern_search_(optimization)) for more information such as pseudo code and visualizations in the search space."
   ]
  },
  {
   "cell_type": "code",
   "execution_count": null,
   "metadata": {
    "execution": {
     "iopub.execute_input": "2022-08-01T02:42:38.404703Z",
     "iopub.status.busy": "2022-08-01T02:42:38.404290Z",
     "iopub.status.idle": "2022-08-01T02:42:38.557754Z",
     "shell.execute_reply": "2022-08-01T02:42:38.556883Z"
    },
    "tags": []
   },
   "outputs": [],
   "source": [
    "from pymoo.algorithms.soo.nonconvex.pattern import PatternSearch\n",
    "from pymoo.problems.single import Himmelblau\n",
    "from pymoo.optimize import minimize\n",
    "\n",
    "\n",
    "problem = Himmelblau()\n",
    "\n",
    "algorithm = PatternSearch()\n",
    "\n",
    "res = minimize(problem,\n",
    "               algorithm,\n",
    "               verbose=False,\n",
    "               seed=1)\n",
    "\n",
    "print(\"Best solution found: \\nX = %s\\nF = %s\" % (res.X, res.F))"
   ]
  },
  {
   "cell_type": "markdown",
   "metadata": {},
   "source": [
    "### API"
   ]
  },
  {
   "cell_type": "raw",
   "metadata": {
    "raw_mimetype": "text/restructuredtext"
   },
   "source": [
    ".. autoclass:: pymoo.algorithms.soo.nonconvex.pattern.PatternSearch\n",
    "    :noindex:"
   ]
  }
 ],
 "metadata": {},
 "nbformat": 4,
 "nbformat_minor": 4
}
