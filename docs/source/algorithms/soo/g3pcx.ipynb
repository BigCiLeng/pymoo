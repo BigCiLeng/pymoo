{
 "cells": [
  {
   "cell_type": "raw",
   "metadata": {
    "raw_mimetype": "text/restructuredtext"
   },
   "source": [
    ".. _nb_g3pcx:"
   ]
  },
  {
   "cell_type": "markdown",
   "metadata": {},
   "source": [
    "# G3PCX: A Computationally Efficient Evolutionary Algorithm for Real-Parameter Optimization"
   ]
  },
  {
   "cell_type": "markdown",
   "metadata": {},
   "source": [
    "The algorithm is implemented based on <cite data-cite=\"g3pcx\"></cite>.\n",
    "This is an implementation of PCX operator using G3 model. This is an unconstrained optimization algorithm which is suitable for real parameter optimization. "
   ]
  },
  {
   "cell_type": "code",
   "execution_count": null,
   "metadata": {
    "execution": {
     "iopub.execute_input": "2022-08-01T02:43:51.052247Z",
     "iopub.status.busy": "2022-08-01T02:43:51.051496Z",
     "iopub.status.idle": "2022-08-01T02:43:52.690858Z",
     "shell.execute_reply": "2022-08-01T02:43:52.690248Z"
    },
    "tags": []
   },
   "outputs": [],
   "source": [
    "from pymoo.algorithms.soo.nonconvex.g3pcx import G3PCX\n",
    "from pymoo.problems.single import Ackley\n",
    "from pymoo.optimize import minimize\n",
    "\n",
    "problem = Ackley()\n",
    "\n",
    "algorithm = G3PCX()\n",
    "\n",
    "res = minimize(problem,\n",
    "               algorithm,\n",
    "               seed=1,\n",
    "               verbose=False)\n",
    "\n",
    "print(\"Best solution found: \\nX = %s\\nF = %s\" % (res.X, res.F))"
   ]
  },
  {
   "cell_type": "markdown",
   "metadata": {},
   "source": [
    "### API"
   ]
  },
  {
   "cell_type": "raw",
   "metadata": {
    "raw_mimetype": "text/restructuredtext"
   },
   "source": [
    ".. autoclass:: pymoo.algorithms.soo.nonconvex.g3pcx.G3PCX\n",
    "    :noindex:\n",
    "    :no-undoc-members:"
   ]
  }
 ],
 "metadata": {},
 "nbformat": 4,
 "nbformat_minor": 4
}
