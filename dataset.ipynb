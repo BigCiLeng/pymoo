{
 "cells": [
  {
   "cell_type": "code",
   "execution_count": 1,
   "metadata": {},
   "outputs": [],
   "source": [
    "import numpy as np\n",
    "import effect_fun"
   ]
  },
  {
   "cell_type": "code",
   "execution_count": 2,
   "metadata": {},
   "outputs": [
    {
     "name": "stdout",
     "output_type": "stream",
     "text": [
      "[[3.84843623e+02 1.03843758e+01 7.02853360e+00 6.92614840e+03\n",
      "  1.00302166e+00]\n",
      " [3.84842384e+02 1.03857368e+01 7.02860506e+00 6.92657182e+03\n",
      "  1.00300537e+00]\n",
      " [3.84847795e+02 1.03862988e+01 7.02867545e+00 6.92700151e+03\n",
      "  1.00299127e+00]\n",
      " [3.84839128e+02 1.03871686e+01 7.02889986e+00 6.92694810e+03\n",
      "  1.00297257e+00]\n",
      " [3.84838571e+02 1.03884585e+01 7.02896841e+00 6.92738865e+03\n",
      "  1.00296228e+00]\n",
      " [3.79539794e+02 1.05814690e+01 7.01376757e+00 6.82105707e+03\n",
      "  9.40979403e-01]\n",
      " [3.84842587e+02 1.03857151e+01 7.02860421e+00 6.92657709e+03\n",
      "  1.00300721e+00]\n",
      " [3.84839127e+02 1.03871688e+01 7.02889986e+00 6.92694806e+03\n",
      "  1.00297255e+00]\n",
      " [3.84838571e+02 1.03884585e+01 7.02896841e+00 6.92738865e+03\n",
      "  1.00296228e+00]\n",
      " [3.84843791e+02 1.03890419e+01 7.02903949e+00 6.92781308e+03\n",
      "  1.00294634e+00]]\n"
     ]
    }
   ],
   "source": [
    "data=np.loadtxt('/share/code/dataset/ship_design/main_five.csv',delimiter=',')\n",
    "f=effect_fun.EffectFun()\n",
    "print(data[:10])"
   ]
  },
  {
   "cell_type": "code",
   "execution_count": 3,
   "metadata": {},
   "outputs": [
    {
     "name": "stdout",
     "output_type": "stream",
     "text": [
      "[array([0.5950499 , 0.59159107, 0.49020087, 0.98426224, 0.1137002 ]), array([0.59505485, 0.59120872, 0.48953657, 0.98409519, 0.11367301]), array([0.59503322, 0.59104838, 0.48888051, 0.98392478, 0.1136495 ]), array([0.59506784, 0.59079739, 0.48677733, 0.98394601, 0.1136183 ]), array([0.59507007, 0.59041884, 0.48613131, 0.98377047, 0.11360114]), array([0.77649282, 0.45319702, 0.58574389, 0.99841248, 0.03309598]), array([0.59505404, 0.5912149 , 0.48954447, 0.98409311, 0.11367609]), array([0.59506785, 0.59079735, 0.48677727, 0.98394602, 0.11361828]), array([0.59507007, 0.59041884, 0.48613131, 0.98377047, 0.11360114]), array([0.59504923, 0.59024515, 0.48545975, 0.98360046, 0.11357457])]\n"
     ]
    }
   ],
   "source": [
    "data_fun=[]\n",
    "for i in data:\n",
    "    i[0]=f.r_tatals_effectFun(i[0])\n",
    "    i[1]=f.bales_levels_effectFun(i[1])\n",
    "    i[2]=f.diameters_effectFun(i[2])\n",
    "    i[3]=f.displacements_effectFun(i[3])\n",
    "    i[4]=f.gms_effectFun(i[4])\n",
    "    data_fun.append(i)\n",
    "print(data_fun[:10])"
   ]
  },
  {
   "cell_type": "code",
   "execution_count": 4,
   "metadata": {},
   "outputs": [],
   "source": [
    "import pandas as pd\n",
    "pd.DataFrame(np.array(data_fun)).to_csv('../dataset/ship_design/main_five_fun.csv',index=False, header=0)"
   ]
  }
 ],
 "metadata": {
  "kernelspec": {
   "display_name": "Python 3.8.13 ('tianshou')",
   "language": "python",
   "name": "python3"
  },
  "language_info": {
   "codemirror_mode": {
    "name": "ipython",
    "version": 3
   },
   "file_extension": ".py",
   "mimetype": "text/x-python",
   "name": "python",
   "nbconvert_exporter": "python",
   "pygments_lexer": "ipython3",
   "version": "3.8.13 (default, Mar 28 2022, 11:38:47) \n[GCC 7.5.0]"
  },
  "orig_nbformat": 4,
  "vscode": {
   "interpreter": {
    "hash": "c7b233fb53a5471c87c3e8fe1ad22362a4a7ed4bf2de672062fe9218649a8ba1"
   }
  }
 },
 "nbformat": 4,
 "nbformat_minor": 2
}
